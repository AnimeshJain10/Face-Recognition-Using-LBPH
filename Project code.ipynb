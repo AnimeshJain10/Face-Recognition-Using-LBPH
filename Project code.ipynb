{
 "cells": [
  {
   "cell_type": "code",
   "execution_count": 1,
   "metadata": {},
   "outputs": [
    {
     "name": "stdout",
     "output_type": "stream",
     "text": [
      "Training Data Set Length- 150\n",
      "[ 1  1  1  1  1  1  1  1  1  1  2  2  2  2  2  2  2  2  2  2  3  3  3  3\n",
      "  3  3  3  3  3  3  4  4  4  4  4  4  4  4  4  4  5  5  5  5  5  5  5  5\n",
      "  5  5  6  6  6  6  6  6  6  6  6  6  7  7  7  7  7  7  7  7  7  7  8  8\n",
      "  8  8  8  8  8  8  8  8  9  9  9  9  9  9  9  9  9  9 10 10 10 10 10 10\n",
      " 10 10 10 10 11 11 11 11 11 11 11 11 11 11 12 12 12 12 12 12 12 12 12 12\n",
      " 13 13 13 13 13 13 13 13 13 13 14 14 14 14 14 14 14 14 14 14 15 15 15 15\n",
      " 15 15 15 15 15 15]\n"
     ]
    }
   ],
   "source": [
    "import cv2\n",
    "import os\n",
    "import numpy as np\n",
    "from PIL import Image\n",
    "\n",
    "Haar_Path = r\"D:\\Minor Project 1\\face_recognizer\\haarcascade_frontalface_default.xml\"\n",
    "Haar_Cascade = cv2.CascadeClassifier(Haar_Path)\n",
    "\n",
    "LBPH = cv2.face.LBPHFaceRecognizer_create()\n",
    "\n",
    "def images_and_labels(dataset):\n",
    "    image_paths = [os.path.join(dataset, f) for f in os.listdir(dataset) if not f.endswith('.sad')]\n",
    "    images = []    \n",
    "    labels = []\n",
    "    for image_path in image_paths:\n",
    "        image_pil = Image.open(image_path).convert('L')\n",
    "        image = np.array(image_pil, 'uint8')\n",
    "        nbr = int(os.path.split(image_path)[1].split(\".\")[0].replace(\"subject\", \"\"))\n",
    "        faces = Haar_Cascade.detectMultiScale(image)\n",
    "        for (x, y, w, h) in faces:\n",
    "            images.append(image[y: y + h, x: x + w])\n",
    "            labels.append(nbr)\n",
    "            cv2.imshow(\"Adding faces to traning set...\", image[y: y + h, x: x + w])\n",
    "            cv2.waitKey(50)\n",
    "    return images, labels\n",
    "\n",
    "dataset = r'D:\\Minor Project 1\\face_recognizer\\yalefaces'\n",
    "\n",
    "images, labels = images_and_labels(dataset)\n",
    "cv2.destroyAllWindows()\n",
    "print(\"Training Data Set Length-\",len(labels))\n",
    "print(np.array(labels))"
   ]
  },
  {
   "cell_type": "code",
   "execution_count": 2,
   "metadata": {},
   "outputs": [
    {
     "name": "stdout",
     "output_type": "stream",
     "text": [
      "Subject- 1  is Correctly Recognized as Subject- 1  with minimum distance between histogram 39.651251744453255\n",
      "Subject- 2  is Correctly Recognized as Subject- 2  with minimum distance between histogram 35.49467125513262\n",
      "Subject- 3  is Correctly Recognized as Subject- 3  with minimum distance between histogram 43.47629904102858\n",
      "Subject- 4  is Correctly Recognized as Subject- 4  with minimum distance between histogram 0.0\n",
      "Subject- 5  is Correctly Recognized as Subject- 5  with minimum distance between histogram 32.31531084262701\n",
      "Subject- 6  is Correctly Recognized as Subject- 6  with minimum distance between histogram 30.617649295244288\n",
      "Subject- 7  is Correctly Recognized as Subject- 7  with minimum distance between histogram 42.07498858952902\n",
      "Subject- 8  is Correctly Recognized as Subject- 8  with minimum distance between histogram 67.78277828058381\n",
      "Subject- 9  is Correctly Recognized as Subject- 9  with minimum distance between histogram 48.12459852823689\n",
      "Subject- 10  is Correctly Recognized as Subject- 10  with minimum distance between histogram 25.485826004911853\n",
      "Subject- 11  is Correctly Recognized as Subject- 11  with minimum distance between histogram 37.70928857285139\n",
      "Subject- 12  is Correctly Recognized as Subject- 12  with minimum distance between histogram 33.884765520689534\n",
      "Subject- 13  is Correctly Recognized as Subject- 13  with minimum distance between histogram 36.261214553130074\n",
      "Subject- 14  is Correctly Recognized as Subject- 14  with minimum distance between histogram 36.65706957155049\n",
      "Subject- 15  is Correctly Recognized as Subject- 15  with minimum distance between histogram 32.86989791386682\n"
     ]
    }
   ],
   "source": [
    "LBPH = cv2.face.LBPHFaceRecognizer_create()\n",
    "\n",
    "LBPH.train(images, np.array(labels))\n",
    "\n",
    "\n",
    "image_paths = [os.path.join(dataset, f) for f in os.listdir(dataset) if f.endswith('.sad')]\n",
    "predicted=[]\n",
    "actual=[]\n",
    "for image_path in image_paths:\n",
    "    predict_image_pil = Image.open(image_path).convert('L')\n",
    "    predict_image = np.array(predict_image_pil, 'uint8')\n",
    "    faces = Haar_Cascade.detectMultiScale(predict_image)\n",
    "    for (x, y, w, h) in faces:\n",
    "        nbr_predicted, conf = LBPH.predict(predict_image[y: y + h, x: x + w])\n",
    "        predicted.append(nbr_predicted)\n",
    "        nbr_actual = int(os.path.split(image_path)[1].split(\".\")[0].replace(\"subject\", \"\"))\n",
    "        actual.append(nbr_actual)\n",
    "        if nbr_actual == nbr_predicted:\n",
    "            print (\"Subject-\",nbr_actual,\" is Correctly Recognized as Subject-\",nbr_predicted,\" with minimum distance between histogram\",conf);\n",
    "        else:\n",
    "            print (\"Subject-\",nbr_actual,\"is Incorrectly Recognized\");\n",
    "        cv2.imshow(\"Recognizing Face\", predict_image[y: y + h, x: x + w])\n",
    "        cv2.waitKey(100)\n",
    "        \n",
    "cv2.destroyAllWindows()"
   ]
  },
  {
   "cell_type": "code",
   "execution_count": 3,
   "metadata": {},
   "outputs": [
    {
     "name": "stdout",
     "output_type": "stream",
     "text": [
      "[1, 2, 3, 4, 5, 6, 7, 8, 9, 10, 11, 12, 13, 14, 15]\n"
     ]
    }
   ],
   "source": [
    "print(actual)\n"
   ]
  },
  {
   "cell_type": "code",
   "execution_count": 4,
   "metadata": {},
   "outputs": [
    {
     "name": "stdout",
     "output_type": "stream",
     "text": [
      "[1, 2, 3, 4, 5, 6, 7, 8, 9, 10, 11, 12, 13, 14, 15]\n"
     ]
    }
   ],
   "source": [
    "print(predicted)"
   ]
  },
  {
   "cell_type": "code",
   "execution_count": 5,
   "metadata": {},
   "outputs": [
    {
     "name": "stdout",
     "output_type": "stream",
     "text": [
      "Prediction Result Accuracy- 100.0 %\n"
     ]
    }
   ],
   "source": [
    "from sklearn.metrics import accuracy_score\n",
    "acc=accuracy_score(actual,predicted)\n",
    "accuracy=acc*100\n",
    "print(\"Prediction Result Accuracy-\",accuracy,\"%\")"
   ]
  },
  {
   "cell_type": "code",
   "execution_count": null,
   "metadata": {},
   "outputs": [],
   "source": []
  }
 ],
 "metadata": {
  "kernelspec": {
   "display_name": "Python 3",
   "language": "python",
   "name": "python3"
  },
  "language_info": {
   "codemirror_mode": {
    "name": "ipython",
    "version": 3
   },
   "file_extension": ".py",
   "mimetype": "text/x-python",
   "name": "python",
   "nbconvert_exporter": "python",
   "pygments_lexer": "ipython3",
   "version": "3.6.5"
  }
 },
 "nbformat": 4,
 "nbformat_minor": 2
}
